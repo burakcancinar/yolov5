{
  "nbformat": 4,
  "nbformat_minor": 0,
  "metadata": {
    "colab": {
      "provenance": [],
      "authorship_tag": "ABX9TyOIO5Xl4yrdX8E4uvMc357R",
      "include_colab_link": true
    },
    "kernelspec": {
      "name": "python3",
      "display_name": "Python 3"
    },
    "language_info": {
      "name": "python"
    },
    "accelerator": "GPU",
    "gpuClass": "standard"
  },
  "cells": [
    {
      "cell_type": "markdown",
      "metadata": {
        "id": "view-in-github",
        "colab_type": "text"
      },
      "source": [
        "<a href=\"https://colab.research.google.com/github/burakcancinar/yolov5/blob/master/egerobot.ipynb\" target=\"_parent\"><img src=\"https://colab.research.google.com/assets/colab-badge.svg\" alt=\"Open In Colab\"/></a>"
      ]
    },
    {
      "cell_type": "code",
      "source": [
        "from google.colab import drive\n",
        "drive.mount('/content/drive')"
      ],
      "metadata": {
        "colab": {
          "base_uri": "https://localhost:8080/"
        },
        "id": "QZVjsAmazny8",
        "outputId": "32845eb8-0def-4f4e-efd0-090fb46678e9"
      },
      "execution_count": null,
      "outputs": [
        {
          "output_type": "stream",
          "name": "stdout",
          "text": [
            "Mounted at /content/drive\n"
          ]
        }
      ]
    },
    {
      "cell_type": "code",
      "source": [
        "!git clone https://github.com/ultralytics/yolov5  # clone repo\n",
        "!pip install -U -r yolov5/requirements.txt  # install dependencies"
      ],
      "metadata": {
        "id": "QA115IJNzoQl"
      },
      "execution_count": null,
      "outputs": []
    },
    {
      "cell_type": "code",
      "source": [
        "!pip install roboflow\n",
        "\n",
        "from roboflow import Roboflow\n",
        "rf = Roboflow(api_key=\"djen2bv91273ZmVErkfR\")\n",
        "project = rf.workspace(\"mohamed-traore-2ekkp\").project(\"forklift-dsitv\")\n",
        "dataset = project.version(5).download(\"yolov5\")"
      ],
      "metadata": {
        "id": "1ZNxvYY01-qD"
      },
      "execution_count": null,
      "outputs": []
    },
    {
      "cell_type": "code",
      "source": [
        "%cd /content/yolov5"
      ],
      "metadata": {
        "colab": {
          "base_uri": "https://localhost:8080/"
        },
        "id": "6EzrDBkJ2fYo",
        "outputId": "d7c0e3ec-cef5-4229-819e-e0168dd012f2"
      },
      "execution_count": null,
      "outputs": [
        {
          "output_type": "stream",
          "name": "stdout",
          "text": [
            "/content/yolov5\n"
          ]
        }
      ]
    },
    {
      "cell_type": "code",
      "source": [
        "!python train.py --img 640 --batch 16 --epochs 30 --data /content/Forklift-5/data.yaml --weights yolov5x.pt"
      ],
      "metadata": {
        "id": "RWSrbQKl1-lN"
      },
      "execution_count": null,
      "outputs": []
    },
    {
      "cell_type": "code",
      "source": [
        "!python detect.py --weights runs/train/exp2/weights/best.pt --img 640 --conf 0.25 --source /content/forklift.mp4"
      ],
      "metadata": {
        "id": "RNZ-VzGZCgNz"
      },
      "execution_count": null,
      "outputs": []
    },
    {
      "cell_type": "code",
      "source": [
        "!python detect.py --weights runs/train/exp2/weights/best.pt --img 640 --conf 0.25 --source /content/forklift2.mp4"
      ],
      "metadata": {
        "id": "rZA1phiyEXdG"
      },
      "execution_count": null,
      "outputs": []
    }
  ]
}